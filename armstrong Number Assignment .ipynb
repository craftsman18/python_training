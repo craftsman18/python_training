{
 "cells": [
  {
   "cell_type": "markdown",
   "metadata": {},
   "source": [
    "# Armstrong Number and Fibonacci Numbers"
   ]
  },
  {
   "cell_type": "code",
   "execution_count": null,
   "metadata": {},
   "outputs": [],
   "source": [
    "while True:\n",
    "    number = input(\"enter a positive number: \")\n",
    "    digits = len(number)\n",
    "    summ = 0\n",
    "    if  not number.isdigit() :\n",
    "        print(number,\"It is an invalid entry, try again!\")\n",
    "    elif int(number) >= 0:\n",
    "        for i in range(digits):\n",
    "            summ += int(number[i]) ** digits\n",
    "        if summ == int(number):\n",
    "            print(number, \"Your number is Armstrong Number\")\n",
    "            break\n",
    "        else:\n",
    "            print(number, \"is not an Armstrong Number.\")\n",
    "            break     "
   ]
  },
  {
   "cell_type": "code",
   "execution_count": null,
   "metadata": {},
   "outputs": [],
   "source": [
    "n = int(input(\"Enter a number to check if it is prime or not:\"))\n",
    "\n",
    "count = 0\n",
    "\n",
    "for i in range(1, n+1):\n",
    "    if not (n % i): count += 1\n",
    "        \n",
    "if (n == 0) or (n == 1) or (count >= 3): print(n, \"is not a prime number.\")\n",
    "else: print (n, \"is a prime number.\")"
   ]
  },
  {
   "cell_type": "code",
   "execution_count": null,
   "metadata": {},
   "outputs": [],
   "source": [
    "fibo = []\n",
    "\n",
    "for i in range(-2, 8) :\n",
    "    if i < 0: fibo.append(1)\n",
    "    else: fibo.append(fibo[i] + fibo[i+1])\n",
    "        \n",
    "        \n",
    "        \n",
    "fibo"
   ]
  },
  {
   "cell_type": "code",
   "execution_count": null,
   "metadata": {},
   "outputs": [],
   "source": [
    "letters = [\"a\", \"b\", \"e\", \"i\", \"ş\", \"ü\", \"w\"]\n",
    "\n",
    "vowel = [\"a\", \"e\", \"i\", \"o\", \"u\"]\n",
    "\n",
    "def flt(let):\n",
    "    if let in vowel:\n",
    "        return True\n",
    "    else:\n",
    "        return False\n"
   ]
  },
  {
   "cell_type": "code",
   "execution_count": null,
   "metadata": {},
   "outputs": [],
   "source": [
    "x = [[(1, 2), (3, 4, 5), [6, 7], [8, 9]]]\n",
    "\n",
    "a = list(* x)\n",
    "s = tuple(a[0])\n",
    "b = tuple(a[1])\n",
    "c = tuple(a[2])\n",
    "d = tuple(a[3])\n",
    "\n",
    "w = s + b + c + d\n",
    "set(w)"
   ]
  },
  {
   "cell_type": "code",
   "execution_count": null,
   "metadata": {},
   "outputs": [],
   "source": [
    "x = [[(1, 2), (3, 4, 5), [6, 7], [8, 9]]]\n",
    "a = list(* x)\n",
    "new = []\n",
    "for i in a[0]:\n",
    "    new.append(i)\n",
    "    for i in a[1]:\n",
    "        new.append(i)\n",
    "        for i in a[2]:\n",
    "            new.append(i)\n",
    "            for i in a[3]:\n",
    "                new.append(i)\n",
    "    \n",
    "print(set(new))"
   ]
  },
  {
   "cell_type": "code",
   "execution_count": 1,
   "metadata": {},
   "outputs": [
    {
     "ename": "NameError",
     "evalue": "name 'a' is not defined",
     "output_type": "error",
     "traceback": [
      "\u001b[1;31m---------------------------------------------------------------------------\u001b[0m",
      "\u001b[1;31mNameError\u001b[0m                                 Traceback (most recent call last)",
      "\u001b[1;32m<ipython-input-1-779ab3ce5d93>\u001b[0m in \u001b[0;36m<module>\u001b[1;34m\u001b[0m\n\u001b[0;32m      2\u001b[0m \u001b[0msayac\u001b[0m \u001b[1;33m=\u001b[0m \u001b[1;36m0\u001b[0m\u001b[1;33m\u001b[0m\u001b[1;33m\u001b[0m\u001b[0m\n\u001b[0;32m      3\u001b[0m \u001b[1;32mwhile\u001b[0m \u001b[1;32mTrue\u001b[0m\u001b[1;33m:\u001b[0m\u001b[1;33m\u001b[0m\u001b[1;33m\u001b[0m\u001b[0m\n\u001b[1;32m----> 4\u001b[1;33m     \u001b[1;32mfor\u001b[0m \u001b[0mi\u001b[0m \u001b[1;32min\u001b[0m \u001b[0ma\u001b[0m\u001b[1;33m[\u001b[0m\u001b[1;36m0\u001b[0m\u001b[1;33m]\u001b[0m\u001b[1;33m:\u001b[0m\u001b[1;33m\u001b[0m\u001b[1;33m\u001b[0m\u001b[0m\n\u001b[0m\u001b[0;32m      5\u001b[0m         \u001b[0mlist\u001b[0m\u001b[1;33m.\u001b[0m\u001b[0mappend\u001b[0m\u001b[1;33m(\u001b[0m\u001b[0mi\u001b[0m\u001b[1;33m)\u001b[0m\u001b[1;33m\u001b[0m\u001b[1;33m\u001b[0m\u001b[0m\n\u001b[0;32m      6\u001b[0m         \u001b[0msayac\u001b[0m \u001b[1;33m+=\u001b[0m \u001b[1;36m1\u001b[0m\u001b[1;33m\u001b[0m\u001b[1;33m\u001b[0m\u001b[0m\n",
      "\u001b[1;31mNameError\u001b[0m: name 'a' is not defined"
     ]
    }
   ],
   "source": [
    "list = []\n",
    "sayac = 0\n",
    "while True:\n",
    "    for i in a[0]:\n",
    "        list.append(i)\n",
    "        sayac += 1\n",
    "        if sayac == 4:\n",
    "            break"
   ]
  },
  {
   "cell_type": "code",
   "execution_count": null,
   "metadata": {},
   "outputs": [],
   "source": []
  }
 ],
 "metadata": {
  "kernelspec": {
   "display_name": "Python 3",
   "language": "python",
   "name": "python3"
  },
  "language_info": {
   "codemirror_mode": {
    "name": "ipython",
    "version": 3
   },
   "file_extension": ".py",
   "mimetype": "text/x-python",
   "name": "python",
   "nbconvert_exporter": "python",
   "pygments_lexer": "ipython3",
   "version": "3.7.6"
  }
 },
 "nbformat": 4,
 "nbformat_minor": 4
}
