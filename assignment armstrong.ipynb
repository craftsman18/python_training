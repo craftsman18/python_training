{
 "cells": [
  {
   "cell_type": "code",
   "execution_count": null,
   "metadata": {},
   "outputs": [],
   "source": [
    "while True:\n",
    "\n",
    "    number = input(\"Enter a number: \") #407\n",
    "\n",
    "    numberofdigits = len(number)\n",
    "\n",
    "    summ = 0\n",
    "\n",
    "    if number == \"q\":\n",
    "\n",
    "        print(\"Good Bye\")\n",
    "\n",
    "        break\n",
    "\n",
    "    elif (\"-\" in number):\n",
    "\n",
    "        print(\"Don't use non-numeric, float, or negative values!\")\n",
    "\n",
    "        continue\n",
    "\n",
    "    elif (\".\" in number) or (\",\" in number):\n",
    "\n",
    "        print(\"Don't use non-numeric, float, or negative values!\")\n",
    "\n",
    "        continue\n",
    "\n",
    "    elif (number.isdigit() != True):\n",
    "\n",
    "        print(\"Don't use non-numeric, float, or negative values!\")\n",
    "\n",
    "        continue\n",
    "\n",
    "    for i in number:\n",
    "\n",
    "        summ += int(i) ** numberofdigits\n",
    "\n",
    "    if summ == int(number):\n",
    "\n",
    "        print(number, \"is a Armstrong number\")\n",
    "\n",
    "        break\n",
    "\n",
    "    else:\n",
    "\n",
    "        print(number, \"is not a  Armstrong number\")\n",
    "\n",
    "        break"
   ]
  }
 ],
 "metadata": {
  "kernelspec": {
   "display_name": "Python 3",
   "language": "python",
   "name": "python3"
  },
  "language_info": {
   "codemirror_mode": {
    "name": "ipython",
    "version": 3
   },
   "file_extension": ".py",
   "mimetype": "text/x-python",
   "name": "python",
   "nbconvert_exporter": "python",
   "pygments_lexer": "ipython3",
   "version": "3.7.6"
  }
 },
 "nbformat": 4,
 "nbformat_minor": 4
}
