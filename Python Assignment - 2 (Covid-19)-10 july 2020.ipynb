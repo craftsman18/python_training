{
 "cells": [
  {
   "cell_type": "code",
   "execution_count": null,
   "metadata": {},
   "outputs": [],
   "source": [
    "Python Assignment - 2 (Covid-19)"
   ]
  },
  {
   "cell_type": "code",
   "execution_count": null,
   "metadata": {},
   "outputs": [],
   "source": [
    "age = input(\"Are you a cigarette addict older than 75 years old?(Yes or No)\").title().strip() == \"Yes\"\n",
    "\n",
    "\n",
    "\n",
    "chronic = input(\"Do you have a severe chronic disease?(Yes or No)\").title().strip() == \"Yes\"\n",
    "\n",
    "\n",
    "\n",
    "immune = input(\"Is your immune system too weak?(Yes or No)\").title().strip() == \"Yes\"\n",
    "\n",
    "\n",
    "\n",
    "if age or chronic or immune:\n",
    "\n",
    "    print(\"You are in risky group\")\n",
    "\n",
    "else:\n",
    "\n",
    "    print(\"You are not in risky group\")"
   ]
  }
 ],
 "metadata": {
  "kernelspec": {
   "display_name": "Python 3",
   "language": "python",
   "name": "python3"
  },
  "language_info": {
   "codemirror_mode": {
    "name": "ipython",
    "version": 3
   },
   "file_extension": ".py",
   "mimetype": "text/x-python",
   "name": "python",
   "nbconvert_exporter": "python",
   "pygments_lexer": "ipython3",
   "version": "3.7.6"
  }
 },
 "nbformat": 4,
 "nbformat_minor": 4
}
