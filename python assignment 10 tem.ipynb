{
 "cells": [
  {
   "cell_type": "code",
   "execution_count": null,
   "metadata": {},
   "outputs": [],
   "source": [
    "text = ['one', 'two', 'three', 'four', 'five']\n",
    "numbers = [1, 2, 3 ,4 , 5]\n",
    "for a, b in zip(text, numbers):\n",
    "    print(x, ':', y)"
   ]
  },
  {
   "cell_type": "code",
   "execution_count": null,
   "metadata": {},
   "outputs": [],
   "source": [
    "odd = 0\n",
    "even = 0\n",
    "ex_list = [11, 2, 24, 56, 48, 33, 22]\n",
    "for i in range(len(ex_list)):\n",
    "    if ex_list[i] % 2 == 0:\n",
    "        even += 1\n",
    "    else:\n",
    "        odd += 1\n",
    "print('The number of even numbers :', even)\n",
    "print('The number of odd numbers : ', odd)\n",
    "    "
   ]
  },
  {
   "cell_type": "code",
   "execution_count": null,
   "metadata": {},
   "outputs": [],
   "source": [
    "my_number = [2, 56, 98, 56, 77, 34]\n",
    "\n",
    "#for i in range(len(my_number)):\n",
    "    #if my_number[i] % 2 == 0:"
   ]
  },
  {
   "cell_type": "code",
   "execution_count": null,
   "metadata": {},
   "outputs": [],
   "source": [
    "number = 0\n",
    "for i in range(1, 75):\n",
    "    number += i\n",
    "    print(number, i)"
   ]
  },
  {
   "cell_type": "code",
   "execution_count": null,
   "metadata": {},
   "outputs": [],
   "source": [
    "names =[\"susan\", \"tom\", \"edward\"]\n",
    "mood =[\"happy\", \"sad\"]\n",
    "for i in names:\n",
    "    for ii in mood:\n",
    "        print(i +\"  is \"+ ii)"
   ]
  },
  {
   "cell_type": "code",
   "execution_count": null,
   "metadata": {},
   "outputs": [],
   "source": [
    "for i in range(20):\n",
    "    print(\"{:>15}{:<10}\".format(str(i)*i,str(i)*i))"
   ]
  },
  {
   "cell_type": "code",
   "execution_count": null,
   "metadata": {},
   "outputs": [],
   "source": [
    "line = 10\n",
    "print()\n",
    "for i in range(line):\n",
    "    print(' '*16+' '*19+'*'*12+' '*7+'*'*12+' '*7+'*'*(line-1-i)+'*'*(3*i+1))\n",
    "for i in range(line*2-7):\n",
    "    print(' '*(line+5-i)+'*'*(i+1)+'*'*12+' '*7+'*'*12+' '*7+'*'*12+' '*7+'*'*12)\n",
    "for i in range(5):\n",
    "    print(' '*16+'*'*19+'*'*19+'*'*12+' '*7+'*'*12)"
   ]
  },
  {
   "cell_type": "code",
   "execution_count": null,
   "metadata": {},
   "outputs": [],
   "source": [
    "sentence = input(\"Lütfen bir cümle giriniz:\")\n",
    "sentence_list = set(sentence)\n",
    "rep = max(sentence)\n",
    "b = sentence.count(sentence_list)\n",
    "b"
   ]
  },
  {
   "cell_type": "code",
   "execution_count": null,
   "metadata": {},
   "outputs": [],
   "source": [
    "numbers = [1, 3, 7, 4, 3, 0, 3, 6, 3]\n",
    "a = max(numbers, key = numbers.count)\n",
    "b = numbers.count(a)\n",
    "print(\"the most frequent number is {} and it was {} times repeated\". format(a, b))"
   ]
  },
  {
   "cell_type": "code",
   "execution_count": null,
   "metadata": {},
   "outputs": [],
   "source": [
    "sentence =  input(\"Enter a sentence:\")\n",
    "count_letter = {}\n",
    "\n",
    "for char in sentence:\n",
    "    if char in count_letter:  \n",
    "        count_letter[char] += 1    \n",
    "    else:\n",
    "        count_letter[char] = 1\n",
    "    \n",
    "print(count_letter) "
   ]
  },
  {
   "cell_type": "code",
   "execution_count": null,
   "metadata": {},
   "outputs": [],
   "source": []
  },
  {
   "cell_type": "code",
   "execution_count": null,
   "metadata": {},
   "outputs": [],
   "source": [
    "age = input(\"Are you a cigarette addict older than 75 years old?(Yes or No)\").title().strip() == \"Yes\"\n",
    "\n",
    "chronic = input(\"Do you have a severe chronic disease?(Yes or No)\").title().strip() == \"Yes\"\n",
    "\n",
    "immune = input(\"Is your immune system too weak?(Yes or No)\").title().strip() == \"Yes\"\n",
    "\n",
    "if age or chronic or immune:\n",
    "    print(\"You are in risky group\")\n",
    "else:\n",
    "    print(\"You are not in risky group\")"
   ]
  },
  {
   "cell_type": "code",
   "execution_count": 4,
   "metadata": {},
   "outputs": [
    {
     "name": "stdout",
     "output_type": "stream",
     "text": [
      "Enter a number: 5\n",
      "5 is a Armstrong number\n"
     ]
    }
   ],
   "source": [
    "while True:\n",
    "    number = input(\"Enter a number: \") #407\n",
    "    numberofdigits = len(number)\n",
    "    summ = 0\n",
    "    if number == \"q\":\n",
    "        print(\"Good Bye\")\n",
    "        break\n",
    "    elif (\"-\" in number):\n",
    "        print(\"Don't use non-numeric, float, or negative values!\")\n",
    "        continue\n",
    "    elif (\".\" in number) or (\",\" in number):\n",
    "        print(\"Don't use non-numeric, float, or negative values!\")\n",
    "        continue\n",
    "    elif (number.isdigit() != True):\n",
    "        print(\"Don't use non-numeric, float, or negative values!\")\n",
    "        continue\n",
    "    for i in number:\n",
    "        summ += int(i) ** numberofdigits\n",
    "    if summ == int(number):\n",
    "        print(number, \"is a Armstrong number\")\n",
    "        break\n",
    "    else:\n",
    "        print(number, \"is not a  Armstrong number\")\n",
    "        break"
   ]
  },
  {
   "cell_type": "code",
   "execution_count": null,
   "metadata": {},
   "outputs": [],
   "source": []
  },
  {
   "cell_type": "code",
   "execution_count": null,
   "metadata": {},
   "outputs": [],
   "source": []
  }
 ],
 "metadata": {
  "kernelspec": {
   "display_name": "Python 3",
   "language": "python",
   "name": "python3"
  },
  "language_info": {
   "codemirror_mode": {
    "name": "ipython",
    "version": 3
   },
   "file_extension": ".py",
   "mimetype": "text/x-python",
   "name": "python",
   "nbconvert_exporter": "python",
   "pygments_lexer": "ipython3",
   "version": "3.7.6"
  }
 },
 "nbformat": 4,
 "nbformat_minor": 4
}
